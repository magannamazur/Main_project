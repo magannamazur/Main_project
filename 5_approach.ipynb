{
 "cells": [
  {
   "cell_type": "markdown",
   "id": "5bdab154",
   "metadata": {},
   "source": [
    "\n",
    "# Who will leave the work?\n",
    "\n",
    "The project concerns predicting who of the people in data science will change the job. The analysis included tabular data describing the nature of employees and a column with a target specifying whether the employee left work. In the project, I will try to clean the data by filling in missing data, changing categorical data to numerical data and then creating a model for prediction."
   ]
  },
  {
   "cell_type": "code",
   "execution_count": 86,
   "id": "aea2f934",
   "metadata": {},
   "outputs": [],
   "source": [
    "import pandas as pd\n",
    "import numpy as np\n",
    "import matplotlib.pyplot as plt \n",
    "import seaborn as sns\n",
    "import scipy"
   ]
  },
  {
   "cell_type": "markdown",
   "id": "0284ebc9",
   "metadata": {},
   "source": [
    "## Chapter 1: Data Load"
   ]
  },
  {
   "cell_type": "code",
   "execution_count": 87,
   "id": "7210eb0b",
   "metadata": {},
   "outputs": [
    {
     "data": {
      "text/html": [
       "<div>\n",
       "<style scoped>\n",
       "    .dataframe tbody tr th:only-of-type {\n",
       "        vertical-align: middle;\n",
       "    }\n",
       "\n",
       "    .dataframe tbody tr th {\n",
       "        vertical-align: top;\n",
       "    }\n",
       "\n",
       "    .dataframe thead th {\n",
       "        text-align: right;\n",
       "    }\n",
       "</style>\n",
       "<table border=\"1\" class=\"dataframe\">\n",
       "  <thead>\n",
       "    <tr style=\"text-align: right;\">\n",
       "      <th></th>\n",
       "      <th>enrollee_id</th>\n",
       "      <th>city</th>\n",
       "      <th>city_development_index</th>\n",
       "      <th>gender</th>\n",
       "      <th>relevent_experience</th>\n",
       "      <th>enrolled_university</th>\n",
       "      <th>education_level</th>\n",
       "      <th>major_discipline</th>\n",
       "      <th>experience</th>\n",
       "      <th>company_size</th>\n",
       "      <th>company_type</th>\n",
       "      <th>last_new_job</th>\n",
       "      <th>training_hours</th>\n",
       "      <th>target</th>\n",
       "    </tr>\n",
       "  </thead>\n",
       "  <tbody>\n",
       "    <tr>\n",
       "      <th>0</th>\n",
       "      <td>8949</td>\n",
       "      <td>city_103</td>\n",
       "      <td>0.920</td>\n",
       "      <td>Male</td>\n",
       "      <td>Has relevent experience</td>\n",
       "      <td>no_enrollment</td>\n",
       "      <td>Graduate</td>\n",
       "      <td>STEM</td>\n",
       "      <td>&gt;20</td>\n",
       "      <td>NaN</td>\n",
       "      <td>NaN</td>\n",
       "      <td>1</td>\n",
       "      <td>36</td>\n",
       "      <td>1.0</td>\n",
       "    </tr>\n",
       "    <tr>\n",
       "      <th>1</th>\n",
       "      <td>29725</td>\n",
       "      <td>city_40</td>\n",
       "      <td>0.776</td>\n",
       "      <td>Male</td>\n",
       "      <td>No relevent experience</td>\n",
       "      <td>no_enrollment</td>\n",
       "      <td>Graduate</td>\n",
       "      <td>STEM</td>\n",
       "      <td>15</td>\n",
       "      <td>50-99</td>\n",
       "      <td>Pvt Ltd</td>\n",
       "      <td>&gt;4</td>\n",
       "      <td>47</td>\n",
       "      <td>0.0</td>\n",
       "    </tr>\n",
       "    <tr>\n",
       "      <th>2</th>\n",
       "      <td>11561</td>\n",
       "      <td>city_21</td>\n",
       "      <td>0.624</td>\n",
       "      <td>NaN</td>\n",
       "      <td>No relevent experience</td>\n",
       "      <td>Full time course</td>\n",
       "      <td>Graduate</td>\n",
       "      <td>STEM</td>\n",
       "      <td>5</td>\n",
       "      <td>NaN</td>\n",
       "      <td>NaN</td>\n",
       "      <td>never</td>\n",
       "      <td>83</td>\n",
       "      <td>0.0</td>\n",
       "    </tr>\n",
       "    <tr>\n",
       "      <th>3</th>\n",
       "      <td>33241</td>\n",
       "      <td>city_115</td>\n",
       "      <td>0.789</td>\n",
       "      <td>NaN</td>\n",
       "      <td>No relevent experience</td>\n",
       "      <td>NaN</td>\n",
       "      <td>Graduate</td>\n",
       "      <td>Business Degree</td>\n",
       "      <td>&lt;1</td>\n",
       "      <td>NaN</td>\n",
       "      <td>Pvt Ltd</td>\n",
       "      <td>never</td>\n",
       "      <td>52</td>\n",
       "      <td>1.0</td>\n",
       "    </tr>\n",
       "    <tr>\n",
       "      <th>4</th>\n",
       "      <td>666</td>\n",
       "      <td>city_162</td>\n",
       "      <td>0.767</td>\n",
       "      <td>Male</td>\n",
       "      <td>Has relevent experience</td>\n",
       "      <td>no_enrollment</td>\n",
       "      <td>Masters</td>\n",
       "      <td>STEM</td>\n",
       "      <td>&gt;20</td>\n",
       "      <td>50-99</td>\n",
       "      <td>Funded Startup</td>\n",
       "      <td>4</td>\n",
       "      <td>8</td>\n",
       "      <td>0.0</td>\n",
       "    </tr>\n",
       "  </tbody>\n",
       "</table>\n",
       "</div>"
      ],
      "text/plain": [
       "   enrollee_id      city  city_development_index gender  \\\n",
       "0         8949  city_103                   0.920   Male   \n",
       "1        29725   city_40                   0.776   Male   \n",
       "2        11561   city_21                   0.624    NaN   \n",
       "3        33241  city_115                   0.789    NaN   \n",
       "4          666  city_162                   0.767   Male   \n",
       "\n",
       "       relevent_experience enrolled_university education_level  \\\n",
       "0  Has relevent experience       no_enrollment        Graduate   \n",
       "1   No relevent experience       no_enrollment        Graduate   \n",
       "2   No relevent experience    Full time course        Graduate   \n",
       "3   No relevent experience                 NaN        Graduate   \n",
       "4  Has relevent experience       no_enrollment         Masters   \n",
       "\n",
       "  major_discipline experience company_size    company_type last_new_job  \\\n",
       "0             STEM        >20          NaN             NaN            1   \n",
       "1             STEM         15        50-99         Pvt Ltd           >4   \n",
       "2             STEM          5          NaN             NaN        never   \n",
       "3  Business Degree         <1          NaN         Pvt Ltd        never   \n",
       "4             STEM        >20        50-99  Funded Startup            4   \n",
       "\n",
       "   training_hours  target  \n",
       "0              36     1.0  \n",
       "1              47     0.0  \n",
       "2              83     0.0  \n",
       "3              52     1.0  \n",
       "4               8     0.0  "
      ]
     },
     "execution_count": 87,
     "metadata": {},
     "output_type": "execute_result"
    }
   ],
   "source": [
    "df = pd.read_csv('Data/aug_train.csv')\n",
    "df.head()"
   ]
  },
  {
   "cell_type": "markdown",
   "id": "001b569c",
   "metadata": {},
   "source": [
    "## Chapter 2:  EDA"
   ]
  },
  {
   "cell_type": "code",
   "execution_count": 88,
   "id": "d7ffc341",
   "metadata": {},
   "outputs": [
    {
     "data": {
      "text/plain": [
       "Index(['enrollee_id', 'city', 'city_development_index', 'gender',\n",
       "       'relevent_experience', 'enrolled_university', 'education_level',\n",
       "       'major_discipline', 'experience', 'company_size', 'company_type',\n",
       "       'last_new_job', 'training_hours', 'target'],\n",
       "      dtype='object')"
      ]
     },
     "execution_count": 88,
     "metadata": {},
     "output_type": "execute_result"
    }
   ],
   "source": [
    "df.columns"
   ]
  },
  {
   "cell_type": "code",
   "execution_count": 89,
   "id": "459a2a38",
   "metadata": {},
   "outputs": [
    {
     "name": "stdout",
     "output_type": "stream",
     "text": [
      "The number of rows: 19158\n"
     ]
    }
   ],
   "source": [
    "print(f'The number of rows: {len(df.axes[0])}')"
   ]
  },
  {
   "cell_type": "code",
   "execution_count": 90,
   "id": "bfe90a2a",
   "metadata": {},
   "outputs": [
    {
     "name": "stdout",
     "output_type": "stream",
     "text": [
      "The number of columns: 14\n"
     ]
    }
   ],
   "source": [
    "print(f'The number of columns: {len(df.axes[1])}')"
   ]
  },
  {
   "cell_type": "code",
   "execution_count": 91,
   "id": "5aabb53e",
   "metadata": {},
   "outputs": [
    {
     "name": "stdout",
     "output_type": "stream",
     "text": [
      "<class 'pandas.core.frame.DataFrame'>\n",
      "RangeIndex: 19158 entries, 0 to 19157\n",
      "Data columns (total 14 columns):\n",
      " #   Column                  Non-Null Count  Dtype  \n",
      "---  ------                  --------------  -----  \n",
      " 0   enrollee_id             19158 non-null  int64  \n",
      " 1   city                    19158 non-null  object \n",
      " 2   city_development_index  19158 non-null  float64\n",
      " 3   gender                  14650 non-null  object \n",
      " 4   relevent_experience     19158 non-null  object \n",
      " 5   enrolled_university     18772 non-null  object \n",
      " 6   education_level         18698 non-null  object \n",
      " 7   major_discipline        16345 non-null  object \n",
      " 8   experience              19093 non-null  object \n",
      " 9   company_size            13220 non-null  object \n",
      " 10  company_type            13018 non-null  object \n",
      " 11  last_new_job            18735 non-null  object \n",
      " 12  training_hours          19158 non-null  int64  \n",
      " 13  target                  19158 non-null  float64\n",
      "dtypes: float64(2), int64(2), object(10)\n",
      "memory usage: 2.0+ MB\n"
     ]
    }
   ],
   "source": [
    "df.info()"
   ]
  },
  {
   "cell_type": "markdown",
   "id": "9550ef79",
   "metadata": {},
   "source": [
    "After checking the main information about the data, I will have to work with a large amount of missing data and apply the method of changing text data to numeric data to each column accordingly."
   ]
  },
  {
   "cell_type": "code",
   "execution_count": 92,
   "id": "bf69f060",
   "metadata": {},
   "outputs": [
    {
     "data": {
      "text/html": [
       "<div>\n",
       "<style scoped>\n",
       "    .dataframe tbody tr th:only-of-type {\n",
       "        vertical-align: middle;\n",
       "    }\n",
       "\n",
       "    .dataframe tbody tr th {\n",
       "        vertical-align: top;\n",
       "    }\n",
       "\n",
       "    .dataframe thead th {\n",
       "        text-align: right;\n",
       "    }\n",
       "</style>\n",
       "<table border=\"1\" class=\"dataframe\">\n",
       "  <thead>\n",
       "    <tr style=\"text-align: right;\">\n",
       "      <th></th>\n",
       "      <th>Nulls</th>\n",
       "      <th>Num_of_nulls [qty]</th>\n",
       "      <th>Num_of_nulls [%]</th>\n",
       "    </tr>\n",
       "  </thead>\n",
       "  <tbody>\n",
       "    <tr>\n",
       "      <th>enrollee_id</th>\n",
       "      <td>False</td>\n",
       "      <td>0</td>\n",
       "      <td>0.00</td>\n",
       "    </tr>\n",
       "    <tr>\n",
       "      <th>city</th>\n",
       "      <td>False</td>\n",
       "      <td>0</td>\n",
       "      <td>0.00</td>\n",
       "    </tr>\n",
       "    <tr>\n",
       "      <th>city_development_index</th>\n",
       "      <td>False</td>\n",
       "      <td>0</td>\n",
       "      <td>0.00</td>\n",
       "    </tr>\n",
       "    <tr>\n",
       "      <th>gender</th>\n",
       "      <td>True</td>\n",
       "      <td>4508</td>\n",
       "      <td>23.53</td>\n",
       "    </tr>\n",
       "    <tr>\n",
       "      <th>relevent_experience</th>\n",
       "      <td>False</td>\n",
       "      <td>0</td>\n",
       "      <td>0.00</td>\n",
       "    </tr>\n",
       "    <tr>\n",
       "      <th>enrolled_university</th>\n",
       "      <td>True</td>\n",
       "      <td>386</td>\n",
       "      <td>2.01</td>\n",
       "    </tr>\n",
       "    <tr>\n",
       "      <th>education_level</th>\n",
       "      <td>True</td>\n",
       "      <td>460</td>\n",
       "      <td>2.40</td>\n",
       "    </tr>\n",
       "    <tr>\n",
       "      <th>major_discipline</th>\n",
       "      <td>True</td>\n",
       "      <td>2813</td>\n",
       "      <td>14.68</td>\n",
       "    </tr>\n",
       "    <tr>\n",
       "      <th>experience</th>\n",
       "      <td>True</td>\n",
       "      <td>65</td>\n",
       "      <td>0.34</td>\n",
       "    </tr>\n",
       "    <tr>\n",
       "      <th>company_size</th>\n",
       "      <td>True</td>\n",
       "      <td>5938</td>\n",
       "      <td>30.99</td>\n",
       "    </tr>\n",
       "    <tr>\n",
       "      <th>company_type</th>\n",
       "      <td>True</td>\n",
       "      <td>6140</td>\n",
       "      <td>32.05</td>\n",
       "    </tr>\n",
       "    <tr>\n",
       "      <th>last_new_job</th>\n",
       "      <td>True</td>\n",
       "      <td>423</td>\n",
       "      <td>2.21</td>\n",
       "    </tr>\n",
       "    <tr>\n",
       "      <th>training_hours</th>\n",
       "      <td>False</td>\n",
       "      <td>0</td>\n",
       "      <td>0.00</td>\n",
       "    </tr>\n",
       "    <tr>\n",
       "      <th>target</th>\n",
       "      <td>False</td>\n",
       "      <td>0</td>\n",
       "      <td>0.00</td>\n",
       "    </tr>\n",
       "  </tbody>\n",
       "</table>\n",
       "</div>"
      ],
      "text/plain": [
       "                        Nulls  Num_of_nulls [qty]  Num_of_nulls [%]\n",
       "enrollee_id             False                   0              0.00\n",
       "city                    False                   0              0.00\n",
       "city_development_index  False                   0              0.00\n",
       "gender                   True                4508             23.53\n",
       "relevent_experience     False                   0              0.00\n",
       "enrolled_university      True                 386              2.01\n",
       "education_level          True                 460              2.40\n",
       "major_discipline         True                2813             14.68\n",
       "experience               True                  65              0.34\n",
       "company_size             True                5938             30.99\n",
       "company_type             True                6140             32.05\n",
       "last_new_job             True                 423              2.21\n",
       "training_hours          False                   0              0.00\n",
       "target                  False                   0              0.00"
      ]
     },
     "execution_count": 92,
     "metadata": {},
     "output_type": "execute_result"
    }
   ],
   "source": [
    "nulls_summary = pd.DataFrame(df.isnull().any(), columns=['Nulls'])\n",
    "nulls_summary['Num_of_nulls [qty]'] = pd.DataFrame(df.isnull().sum())\n",
    "nulls_summary['Num_of_nulls [%]'] = round((df.isnull().mean()*100),2)\n",
    "nulls_summary"
   ]
  },
  {
   "cell_type": "markdown",
   "id": "b4b7cbba",
   "metadata": {},
   "source": [
    "I assume that emplyee_id is an individual employee number that was randomly assigned and does not provide information about the attributes of a given person. Therefore, I decide to remove this feature at this stage to avoid information noise in subsequent analyses."
   ]
  },
  {
   "cell_type": "code",
   "execution_count": 93,
   "id": "5350c640",
   "metadata": {},
   "outputs": [],
   "source": [
    "df = df.drop(columns=['enrollee_id'])"
   ]
  },
  {
   "cell_type": "code",
   "execution_count": 94,
   "id": "a6bb56c8",
   "metadata": {},
   "outputs": [
    {
     "data": {
      "text/html": [
       "<div>\n",
       "<style scoped>\n",
       "    .dataframe tbody tr th:only-of-type {\n",
       "        vertical-align: middle;\n",
       "    }\n",
       "\n",
       "    .dataframe tbody tr th {\n",
       "        vertical-align: top;\n",
       "    }\n",
       "\n",
       "    .dataframe thead th {\n",
       "        text-align: right;\n",
       "    }\n",
       "</style>\n",
       "<table border=\"1\" class=\"dataframe\">\n",
       "  <thead>\n",
       "    <tr style=\"text-align: right;\">\n",
       "      <th></th>\n",
       "      <th>city_development_index</th>\n",
       "      <th>training_hours</th>\n",
       "      <th>target</th>\n",
       "    </tr>\n",
       "  </thead>\n",
       "  <tbody>\n",
       "    <tr>\n",
       "      <th>count</th>\n",
       "      <td>19158.000000</td>\n",
       "      <td>19158.000000</td>\n",
       "      <td>19158.000000</td>\n",
       "    </tr>\n",
       "    <tr>\n",
       "      <th>mean</th>\n",
       "      <td>0.828848</td>\n",
       "      <td>65.366896</td>\n",
       "      <td>0.249348</td>\n",
       "    </tr>\n",
       "    <tr>\n",
       "      <th>std</th>\n",
       "      <td>0.123362</td>\n",
       "      <td>60.058462</td>\n",
       "      <td>0.432647</td>\n",
       "    </tr>\n",
       "    <tr>\n",
       "      <th>min</th>\n",
       "      <td>0.448000</td>\n",
       "      <td>1.000000</td>\n",
       "      <td>0.000000</td>\n",
       "    </tr>\n",
       "    <tr>\n",
       "      <th>25%</th>\n",
       "      <td>0.740000</td>\n",
       "      <td>23.000000</td>\n",
       "      <td>0.000000</td>\n",
       "    </tr>\n",
       "    <tr>\n",
       "      <th>50%</th>\n",
       "      <td>0.903000</td>\n",
       "      <td>47.000000</td>\n",
       "      <td>0.000000</td>\n",
       "    </tr>\n",
       "    <tr>\n",
       "      <th>75%</th>\n",
       "      <td>0.920000</td>\n",
       "      <td>88.000000</td>\n",
       "      <td>0.000000</td>\n",
       "    </tr>\n",
       "    <tr>\n",
       "      <th>max</th>\n",
       "      <td>0.949000</td>\n",
       "      <td>336.000000</td>\n",
       "      <td>1.000000</td>\n",
       "    </tr>\n",
       "  </tbody>\n",
       "</table>\n",
       "</div>"
      ],
      "text/plain": [
       "       city_development_index  training_hours        target\n",
       "count            19158.000000    19158.000000  19158.000000\n",
       "mean                 0.828848       65.366896      0.249348\n",
       "std                  0.123362       60.058462      0.432647\n",
       "min                  0.448000        1.000000      0.000000\n",
       "25%                  0.740000       23.000000      0.000000\n",
       "50%                  0.903000       47.000000      0.000000\n",
       "75%                  0.920000       88.000000      0.000000\n",
       "max                  0.949000      336.000000      1.000000"
      ]
     },
     "execution_count": 94,
     "metadata": {},
     "output_type": "execute_result"
    }
   ],
   "source": [
    "df.describe()"
   ]
  },
  {
   "cell_type": "code",
   "execution_count": 95,
   "id": "e4676fb6",
   "metadata": {},
   "outputs": [
    {
     "data": {
      "text/html": [
       "<div>\n",
       "<style scoped>\n",
       "    .dataframe tbody tr th:only-of-type {\n",
       "        vertical-align: middle;\n",
       "    }\n",
       "\n",
       "    .dataframe tbody tr th {\n",
       "        vertical-align: top;\n",
       "    }\n",
       "\n",
       "    .dataframe thead th {\n",
       "        text-align: right;\n",
       "    }\n",
       "</style>\n",
       "<table border=\"1\" class=\"dataframe\">\n",
       "  <thead>\n",
       "    <tr style=\"text-align: right;\">\n",
       "      <th></th>\n",
       "      <th>city</th>\n",
       "      <th>gender</th>\n",
       "      <th>relevent_experience</th>\n",
       "      <th>enrolled_university</th>\n",
       "      <th>education_level</th>\n",
       "      <th>major_discipline</th>\n",
       "      <th>experience</th>\n",
       "      <th>company_size</th>\n",
       "      <th>company_type</th>\n",
       "      <th>last_new_job</th>\n",
       "    </tr>\n",
       "  </thead>\n",
       "  <tbody>\n",
       "    <tr>\n",
       "      <th>count</th>\n",
       "      <td>19158</td>\n",
       "      <td>14650</td>\n",
       "      <td>19158</td>\n",
       "      <td>18772</td>\n",
       "      <td>18698</td>\n",
       "      <td>16345</td>\n",
       "      <td>19093</td>\n",
       "      <td>13220</td>\n",
       "      <td>13018</td>\n",
       "      <td>18735</td>\n",
       "    </tr>\n",
       "    <tr>\n",
       "      <th>unique</th>\n",
       "      <td>123</td>\n",
       "      <td>3</td>\n",
       "      <td>2</td>\n",
       "      <td>3</td>\n",
       "      <td>5</td>\n",
       "      <td>6</td>\n",
       "      <td>22</td>\n",
       "      <td>8</td>\n",
       "      <td>6</td>\n",
       "      <td>6</td>\n",
       "    </tr>\n",
       "    <tr>\n",
       "      <th>top</th>\n",
       "      <td>city_103</td>\n",
       "      <td>Male</td>\n",
       "      <td>Has relevent experience</td>\n",
       "      <td>no_enrollment</td>\n",
       "      <td>Graduate</td>\n",
       "      <td>STEM</td>\n",
       "      <td>&gt;20</td>\n",
       "      <td>50-99</td>\n",
       "      <td>Pvt Ltd</td>\n",
       "      <td>1</td>\n",
       "    </tr>\n",
       "    <tr>\n",
       "      <th>freq</th>\n",
       "      <td>4355</td>\n",
       "      <td>13221</td>\n",
       "      <td>13792</td>\n",
       "      <td>13817</td>\n",
       "      <td>11598</td>\n",
       "      <td>14492</td>\n",
       "      <td>3286</td>\n",
       "      <td>3083</td>\n",
       "      <td>9817</td>\n",
       "      <td>8040</td>\n",
       "    </tr>\n",
       "  </tbody>\n",
       "</table>\n",
       "</div>"
      ],
      "text/plain": [
       "            city gender      relevent_experience enrolled_university  \\\n",
       "count      19158  14650                    19158               18772   \n",
       "unique       123      3                        2                   3   \n",
       "top     city_103   Male  Has relevent experience       no_enrollment   \n",
       "freq        4355  13221                    13792               13817   \n",
       "\n",
       "       education_level major_discipline experience company_size company_type  \\\n",
       "count            18698            16345      19093        13220        13018   \n",
       "unique               5                6         22            8            6   \n",
       "top           Graduate             STEM        >20        50-99      Pvt Ltd   \n",
       "freq             11598            14492       3286         3083         9817   \n",
       "\n",
       "       last_new_job  \n",
       "count         18735  \n",
       "unique            6  \n",
       "top               1  \n",
       "freq           8040  "
      ]
     },
     "execution_count": 95,
     "metadata": {},
     "output_type": "execute_result"
    }
   ],
   "source": [
    "df.describe(include='object')"
   ]
  },
  {
   "cell_type": "markdown",
   "id": "0d6f1f3e",
   "metadata": {},
   "source": [
    "After analyzing the describe function, at this stage I already know that I will have to organize the data, especially using mapping, one encoder and cleaning strings that contain numbers with special characters around."
   ]
  },
  {
   "cell_type": "markdown",
   "id": "85d5b979",
   "metadata": {},
   "source": [
    "### Correlation between numerical variables"
   ]
  },
  {
   "cell_type": "markdown",
   "id": "f314e1f2",
   "metadata": {},
   "source": [
    "I start by checking the correlation between numerical values, and in order to choose the appropriate correlation method, I first check whether the data comes from a normal distribution."
   ]
  },
  {
   "cell_type": "code",
   "execution_count": 96,
   "id": "53d40255",
   "metadata": {},
   "outputs": [
    {
     "name": "stdout",
     "output_type": "stream",
     "text": [
      "I reject the null hypothesis and accept the alternative hypothesis: the variable does not come from a normal distribution.\n"
     ]
    }
   ],
   "source": [
    "# Test for normality of distribution\n",
    "# Assumed significance level alpha = 0.05.\n",
    "if(scipy.stats.normaltest(df['city_development_index'])[1] < 0.05):\n",
    "    print('I reject the null hypothesis and accept the alternative hypothesis: the variable does not come from a normal distribution.')\n",
    "else:\n",
    "    print('I accept the null hypothesis. The variable comes from a normal distribution.')"
   ]
  },
  {
   "cell_type": "markdown",
   "id": "4f232eb4",
   "metadata": {},
   "source": [
    "The data does not come from a normal distribution, so I cannot use Pearson correlation, so I choose the Spearman method."
   ]
  },
  {
   "cell_type": "code",
   "execution_count": 97,
   "id": "68b7bc01",
   "metadata": {},
   "outputs": [
    {
     "data": {
      "image/png": "[encoded data removed]",
      "text/plain": [
       "<Figure size 1500x600 with 2 Axes>"
      ]
     },
     "metadata": {},
     "output_type": "display_data"
    }
   ],
   "source": [
    "import scipy\n",
    "corr_num = pd.DataFrame(scipy.stats.spearmanr(df.select_dtypes(include = ['float', 'int']))[0],\n",
    "                        columns = df.select_dtypes(include = ['float', 'int']).columns,\n",
    "                        index = df.select_dtypes(include = ['float', 'int']).columns)\n",
    "\n",
    "plt.figure(figsize=(15,6))\n",
    "sns.set(font_scale=1)\n",
    "sns.heatmap(corr_num.abs(), cmap=\"Reds\", linewidths=.5).set(title=\"Heatmap-the Spearman's rank correlation coefficient\")\n",
    "plt.show()"
   ]
  },
  {
   "cell_type": "markdown",
   "id": "f184f192",
   "metadata": {},
   "source": [
    "The presented heat map shows no correlation between target and training ours and moderate correlation with city development index, which allows us to determine that we can use both features when constructing the model. Different levels of feature correlation should be properly captured by the future model."
   ]
  },
  {
   "cell_type": "markdown",
   "id": "6b863e5b",
   "metadata": {},
   "source": [
    "### Correlation between numerical and categorical variables"
   ]
  },
  {
   "cell_type": "markdown",
   "id": "6a622498",
   "metadata": {},
   "source": [
    "In the next stage I analyze the correlation between numerical and categorical data, I have already noticed that the relationship between the city and the city development index may have a high correlation, in the further part of the project I will check if both columns are repeated."
   ]
  },
  {
   "cell_type": "code",
   "execution_count": 98,
   "id": "59cc3f5d",
   "metadata": {},
   "outputs": [
    {
     "data": {
      "image/png": "[encoded data removed]",
      "text/plain": [
       "<Figure size 1500x600 with 2 Axes>"
      ]
     },
     "metadata": {},
     "output_type": "display_data"
    }
   ],
   "source": [
    "import statsmodels.formula.api as sm\n",
    "cat_cols = ['city', 'gender',\n",
    "       'relevent_experience', 'enrolled_university', 'education_level',\n",
    "       'major_discipline', 'experience', 'company_size', 'company_type',\n",
    "       'last_new_job']\n",
    "num_cols = df.drop(cat_cols, axis = 1).columns\n",
    "\n",
    "\n",
    "cols = []\n",
    "for cat in cat_cols:\n",
    "    rows = []\n",
    "    for num in num_cols:\n",
    "        formula = num + '~' +cat\n",
    "        model = sm.ols(formula=formula,data=df)\n",
    "        rows.append(np.sqrt(model.fit().rsquared))\n",
    "    cols.append(rows)\n",
    "corr_num_cat = pd.DataFrame(cols, index = cat_cols, columns = num_cols)\n",
    "\n",
    "# wykres zależności\n",
    "plt.figure(figsize=(15,6))\n",
    "sns.set(font_scale=1.4)\n",
    "sns.heatmap(corr_num_cat, cmap=\"Reds\", linewidths=.5).set(title='Heatmap - R squared correlation coefficient')\n",
    "plt.show()"
   ]
  },
  {
   "cell_type": "markdown",
   "id": "67108fe5",
   "metadata": {},
   "source": [
    "### Correlation between categorical variables"
   ]
  },
  {
   "cell_type": "markdown",
   "id": "176f7ea9",
   "metadata": {},
   "source": [
    "The correlation between categorical data is low or medium. This means that I can use all of these features in the model because none of them will be duplicated."
   ]
  },
  {
   "cell_type": "code",
   "execution_count": 99,
   "id": "668f1e41",
   "metadata": {},
   "outputs": [],
   "source": [
    "def CramersV(tab):\n",
    "    a = scipy.stats.chi2_contingency(tab)[0]/sum(tab.sum())\n",
    "    b = min(tab.shape[0]-1, tab.shape[1]-1,)\n",
    "    return(np.sqrt(a/b))\n",
    "\n",
    "def CalculateCrammersV(tab):\n",
    "    ret = []\n",
    "    for m in tab:\n",
    "        row = []\n",
    "        for n in tab:\n",
    "            cross_tab = pd.crosstab(tab[m].values,tab[n].values)\n",
    "            row.append(CramersV(cross_tab))\n",
    "        ret.append(row)\n",
    "    return pd.DataFrame(ret, columns=tab.columns, index=tab.columns)"
   ]
  },
  {
   "cell_type": "code",
   "execution_count": 100,
   "id": "f3e09349",
   "metadata": {},
   "outputs": [
    {
     "data": {
      "image/png": "[encoded data removed]",
      "text/plain": [
       "<Figure size 1500x600 with 2 Axes>"
      ]
     },
     "metadata": {},
     "output_type": "display_data"
    }
   ],
   "source": [
    "crammer = CalculateCrammersV(df[cat_cols])\n",
    "\n",
    "plt.figure(figsize=(15,6))\n",
    "sns.set(font_scale=1.4)\n",
    "sns.heatmap(crammer, cmap=\"Reds\", linewidths=.5).set(title='Heatmap-Cramer’sV correlation')\n",
    "plt.show()"
   ]
  },
  {
   "cell_type": "markdown",
   "id": "a1059ff0",
   "metadata": {},
   "source": [
    "# Chapter 3:  Features transformation"
   ]
  },
  {
   "cell_type": "markdown",
   "id": "662e3ed5",
   "metadata": {},
   "source": [
    "### 1. enrollee_id\n",
    "- Unique ID for enrollee, it is typicaly random number gien to employee which is meaningless about the characteristic of person\n",
    "- It leads to the conlusion that it can have negative impoact on model, so best practive is drop variable, as I done in the biggening"
   ]
  },
  {
   "cell_type": "markdown",
   "id": "af8b02bd",
   "metadata": {},
   "source": [
    "### 2&3. city &  city_development_index\n",
    "- city: City code\n",
    "- city_development_index: Developement index of the city (scaled)\n",
    "- the varibales seems to be duplicated so I removed city, as city_development_index is already numerical and scaled"
   ]
  },
  {
   "cell_type": "code",
   "execution_count": 101,
   "id": "abf71b91",
   "metadata": {},
   "outputs": [
    {
     "data": {
      "text/html": [
       "<div>\n",
       "<style scoped>\n",
       "    .dataframe tbody tr th:only-of-type {\n",
       "        vertical-align: middle;\n",
       "    }\n",
       "\n",
       "    .dataframe tbody tr th {\n",
       "        vertical-align: top;\n",
       "    }\n",
       "\n",
       "    .dataframe thead th {\n",
       "        text-align: right;\n",
       "    }\n",
       "</style>\n",
       "<table border=\"1\" class=\"dataframe\">\n",
       "  <thead>\n",
       "    <tr style=\"text-align: right;\">\n",
       "      <th></th>\n",
       "      <th>city</th>\n",
       "      <th>city_development_index</th>\n",
       "    </tr>\n",
       "  </thead>\n",
       "  <tbody>\n",
       "    <tr>\n",
       "      <th>0</th>\n",
       "      <td>city_103</td>\n",
       "      <td>0.92</td>\n",
       "    </tr>\n",
       "    <tr>\n",
       "      <th>8</th>\n",
       "      <td>city_103</td>\n",
       "      <td>0.92</td>\n",
       "    </tr>\n",
       "    <tr>\n",
       "      <th>9</th>\n",
       "      <td>city_103</td>\n",
       "      <td>0.92</td>\n",
       "    </tr>\n",
       "    <tr>\n",
       "      <th>11</th>\n",
       "      <td>city_103</td>\n",
       "      <td>0.92</td>\n",
       "    </tr>\n",
       "    <tr>\n",
       "      <th>16</th>\n",
       "      <td>city_103</td>\n",
       "      <td>0.92</td>\n",
       "    </tr>\n",
       "    <tr>\n",
       "      <th>...</th>\n",
       "      <td>...</td>\n",
       "      <td>...</td>\n",
       "    </tr>\n",
       "    <tr>\n",
       "      <th>19146</th>\n",
       "      <td>city_103</td>\n",
       "      <td>0.92</td>\n",
       "    </tr>\n",
       "    <tr>\n",
       "      <th>19149</th>\n",
       "      <td>city_103</td>\n",
       "      <td>0.92</td>\n",
       "    </tr>\n",
       "    <tr>\n",
       "      <th>19152</th>\n",
       "      <td>city_103</td>\n",
       "      <td>0.92</td>\n",
       "    </tr>\n",
       "    <tr>\n",
       "      <th>19154</th>\n",
       "      <td>city_103</td>\n",
       "      <td>0.92</td>\n",
       "    </tr>\n",
       "    <tr>\n",
       "      <th>19155</th>\n",
       "      <td>city_103</td>\n",
       "      <td>0.92</td>\n",
       "    </tr>\n",
       "  </tbody>\n",
       "</table>\n",
       "<p>4355 rows × 2 columns</p>\n",
       "</div>"
      ],
      "text/plain": [
       "           city  city_development_index\n",
       "0      city_103                    0.92\n",
       "8      city_103                    0.92\n",
       "9      city_103                    0.92\n",
       "11     city_103                    0.92\n",
       "16     city_103                    0.92\n",
       "...         ...                     ...\n",
       "19146  city_103                    0.92\n",
       "19149  city_103                    0.92\n",
       "19152  city_103                    0.92\n",
       "19154  city_103                    0.92\n",
       "19155  city_103                    0.92\n",
       "\n",
       "[4355 rows x 2 columns]"
      ]
     },
     "execution_count": 101,
     "metadata": {},
     "output_type": "execute_result"
    }
   ],
   "source": [
    "df[(df[\"city\"]==\"city_103\")][['city', 'city_development_index']]"
   ]
  },
  {
   "cell_type": "code",
   "execution_count": 102,
   "id": "f49fcdb1",
   "metadata": {},
   "outputs": [
    {
     "data": {
      "text/html": [
       "<div>\n",
       "<style scoped>\n",
       "    .dataframe tbody tr th:only-of-type {\n",
       "        vertical-align: middle;\n",
       "    }\n",
       "\n",
       "    .dataframe tbody tr th {\n",
       "        vertical-align: top;\n",
       "    }\n",
       "\n",
       "    .dataframe thead th {\n",
       "        text-align: right;\n",
       "    }\n",
       "</style>\n",
       "<table border=\"1\" class=\"dataframe\">\n",
       "  <thead>\n",
       "    <tr style=\"text-align: right;\">\n",
       "      <th></th>\n",
       "      <th>min</th>\n",
       "      <th>max</th>\n",
       "    </tr>\n",
       "    <tr>\n",
       "      <th>city</th>\n",
       "      <th></th>\n",
       "      <th></th>\n",
       "    </tr>\n",
       "  </thead>\n",
       "  <tbody>\n",
       "  </tbody>\n",
       "</table>\n",
       "</div>"
      ],
      "text/plain": [
       "Empty DataFrame\n",
       "Columns: [min, max]\n",
       "Index: []"
      ]
     },
     "execution_count": 102,
     "metadata": {},
     "output_type": "execute_result"
    }
   ],
   "source": [
    "df_compare = df.groupby('city')['city_development_index'].agg(['min', 'max'])\n",
    "df_compare_result = df_compare[(df_compare['min'] != df_compare['max'])]\n",
    "df_compare_result"
   ]
  },
  {
   "cell_type": "code",
   "execution_count": 103,
   "id": "67379087",
   "metadata": {},
   "outputs": [],
   "source": [
    "df = df.drop(columns=['city'])"
   ]
  },
  {
   "cell_type": "markdown",
   "id": "e550d06f",
   "metadata": {},
   "source": [
    "### 4. gender\n",
    "- Gender of enrolee\n",
    "- There is 3 Categories of gender: Male, Female and Other\n",
    "- Cleanining data by full filling missing values with 'Male' duto to highest frequency\n",
    "- Using get_dummies to convert data into numeric"
   ]
  },
  {
   "cell_type": "code",
   "execution_count": 104,
   "id": "3f6b2ba4",
   "metadata": {},
   "outputs": [
    {
     "data": {
      "text/plain": [
       "gender\n",
       "Male      13221\n",
       "Female     1238\n",
       "Other       191\n",
       "Name: count, dtype: int64"
      ]
     },
     "execution_count": 104,
     "metadata": {},
     "output_type": "execute_result"
    }
   ],
   "source": [
    "df['gender'].value_counts()"
   ]
  },
  {
   "cell_type": "code",
   "execution_count": 105,
   "id": "0b7641b3",
   "metadata": {},
   "outputs": [
    {
     "data": {
      "text/plain": [
       "'Male'"
      ]
     },
     "execution_count": 105,
     "metadata": {},
     "output_type": "execute_result"
    }
   ],
   "source": [
    "df['gender'].mode()[0]"
   ]
  },
  {
   "cell_type": "code",
   "execution_count": 106,
   "id": "b8098de8",
   "metadata": {},
   "outputs": [],
   "source": [
    "df['gender'] = df['gender'].fillna(df['gender'].mode()[0])\n",
    "\n",
    "df = pd.get_dummies(df, columns=['gender'], drop_first=False, dtype=int)\n",
    "    "
   ]
  },
  {
   "cell_type": "markdown",
   "id": "58272825",
   "metadata": {},
   "source": [
    "### 5. relevent_experience\n",
    "- Relevent experience of enrolee\n",
    "- No missing values, so cleaning data by mapping 'Has relevent experience': 1, 'No relevent experience': 0"
   ]
  },
  {
   "cell_type": "code",
   "execution_count": 107,
   "id": "09012c26",
   "metadata": {},
   "outputs": [
    {
     "data": {
      "text/plain": [
       "relevent_experience\n",
       "Has relevent experience    13792\n",
       "No relevent experience      5366\n",
       "Name: count, dtype: int64"
      ]
     },
     "execution_count": 107,
     "metadata": {},
     "output_type": "execute_result"
    }
   ],
   "source": [
    "df['relevent_experience'].value_counts()"
   ]
  },
  {
   "cell_type": "code",
   "execution_count": 108,
   "id": "9ffdaccf",
   "metadata": {},
   "outputs": [],
   "source": [
    "experience = {'Has relevent experience': 1, 'No relevent experience': 0}\n",
    "df['relevent_experience']= df['relevent_experience'].map(experience)"
   ]
  },
  {
   "cell_type": "markdown",
   "id": "70dbd23e",
   "metadata": {},
   "source": [
    "### 6. enrolled_university\n",
    "- Type of University course enrolled if any\n",
    "- Cleanining data by full filling missing values with 'no_enrollment' and using mapping\n",
    "'no_enrollment': 0, 'Part time course': 1, 'Full time course': 2\n",
    "- I considered using one hot encoder, but during the design and future importance analysis, it turned out that enrolled_university had very little impact on the decision tree that was created."
   ]
  },
  {
   "cell_type": "code",
   "execution_count": 109,
   "id": "d7f7d576",
   "metadata": {},
   "outputs": [
    {
     "data": {
      "text/plain": [
       "enrolled_university\n",
       "no_enrollment       13817\n",
       "Full time course     3757\n",
       "Part time course     1198\n",
       "Name: count, dtype: int64"
      ]
     },
     "execution_count": 109,
     "metadata": {},
     "output_type": "execute_result"
    }
   ],
   "source": [
    "df['enrolled_university'].value_counts()"
   ]
  },
  {
   "cell_type": "code",
   "execution_count": 110,
   "id": "23b1f971",
   "metadata": {},
   "outputs": [],
   "source": [
    "df['enrolled_university'] = df['enrolled_university'].fillna('no_enrollment')\n",
    "enrolled_uni = {'no_enrollment': 0, 'Part time course': 1, 'Full time course': 2}\n",
    "df['enrolled_university']= df['enrolled_university'].map(enrolled_uni)"
   ]
  },
  {
   "cell_type": "markdown",
   "id": "b015383a",
   "metadata": {},
   "source": [
    "### 7. education_level\n",
    "- Education level of enrolee\n",
    "- Cleanining data by full filling missing values with 'other' and using mapping: 'Other':0, 'Primary School':1, 'High School':2, 'Graduate':3, 'Masters':4, 'Phd':5\n",
    "- mapping was created based on school graduation level"
   ]
  },
  {
   "cell_type": "code",
   "execution_count": 111,
   "id": "f3900c36",
   "metadata": {},
   "outputs": [
    {
     "data": {
      "text/plain": [
       "education_level\n",
       "Graduate          11598\n",
       "Masters            4361\n",
       "High School        2017\n",
       "Phd                 414\n",
       "Primary School      308\n",
       "Name: count, dtype: int64"
      ]
     },
     "execution_count": 111,
     "metadata": {},
     "output_type": "execute_result"
    }
   ],
   "source": [
    "df['education_level'].value_counts()"
   ]
  },
  {
   "cell_type": "code",
   "execution_count": 112,
   "id": "083fcfb8",
   "metadata": {},
   "outputs": [],
   "source": [
    "df['education_level'] = df['education_level'].fillna('Other')\n",
    "education = {'Graduate':3, 'Masters':4, 'High School':2, 'Other':0, 'Phd':5, 'Primary School':1}\n",
    "df['education_level']= df['education_level'].map(education)"
   ]
  },
  {
   "cell_type": "markdown",
   "id": "6d502c15",
   "metadata": {},
   "source": [
    "### 8. major_discipline\n",
    "- Education major discipline of enrolee\n",
    "- Cleanining data by full filling missing values with 'No Major' and Labels Encoder\n",
    "- In the first approach, I changed the major_disciplines with one hot encoding. However, all disciplines were included as those that have the least impact on the model. That is why I chose the encoder label method in order not to expand the table with additional columns."
   ]
  },
  {
   "cell_type": "code",
   "execution_count": 113,
   "id": "ed9ab053",
   "metadata": {},
   "outputs": [
    {
     "data": {
      "text/plain": [
       "major_discipline\n",
       "STEM               14492\n",
       "Humanities           669\n",
       "Other                381\n",
       "Business Degree      327\n",
       "Arts                 253\n",
       "No Major             223\n",
       "Name: count, dtype: int64"
      ]
     },
     "execution_count": 113,
     "metadata": {},
     "output_type": "execute_result"
    }
   ],
   "source": [
    "df['major_discipline'].value_counts()"
   ]
  },
  {
   "cell_type": "code",
   "execution_count": 114,
   "id": "2ab16122",
   "metadata": {},
   "outputs": [],
   "source": [
    "from sklearn.preprocessing import LabelEncoder\n",
    "df['major_discipline'] = df['major_discipline'].fillna('No Major')\n",
    "le = LabelEncoder()\n",
    "df['major_discipline'] = le.fit_transform(df['major_discipline'])"
   ]
  },
  {
   "cell_type": "markdown",
   "id": "64e06801",
   "metadata": {},
   "source": [
    "### 9. experience\n",
    "- Enrolee total experience in years\n",
    "- cleaning all chars which are not numbers, full filling missing as '0' and changing variables into float type"
   ]
  },
  {
   "cell_type": "code",
   "execution_count": 115,
   "id": "a5e753ef",
   "metadata": {},
   "outputs": [
    {
     "data": {
      "text/plain": [
       "experience\n",
       ">20    3286\n",
       "5      1430\n",
       "4      1403\n",
       "3      1354\n",
       "6      1216\n",
       "2      1127\n",
       "7      1028\n",
       "10      985\n",
       "9       980\n",
       "8       802\n",
       "15      686\n",
       "11      664\n",
       "14      586\n",
       "1       549\n",
       "<1      522\n",
       "16      508\n",
       "12      494\n",
       "13      399\n",
       "17      342\n",
       "19      304\n",
       "18      280\n",
       "20      148\n",
       "Name: count, dtype: int64"
      ]
     },
     "execution_count": 115,
     "metadata": {},
     "output_type": "execute_result"
    }
   ],
   "source": [
    "df['experience'].value_counts()"
   ]
  },
  {
   "cell_type": "code",
   "execution_count": 116,
   "id": "73d51932",
   "metadata": {},
   "outputs": [],
   "source": [
    "df['experience'] = df['experience'].str.replace('>20', '21')\n",
    "df['experience'] = df['experience'].str.replace('<1', '0.5')\n",
    "df['experience'] = df['experience'].fillna(0).astype('float')"
   ]
  },
  {
   "cell_type": "markdown",
   "id": "963d2b3a",
   "metadata": {},
   "source": [
    "### 10. company_size\n",
    "- No of employees in current employer's company\n",
    "- Cleanining data by full filling missing values with 'other' and using mapping: 'Other':0, '<10':1, '10/49':2, '50-99':3, '100-500':4, '500-999':5, '1000-4999':6, '5000-9999':7, '10000+':8 - by company size"
   ]
  },
  {
   "cell_type": "code",
   "execution_count": 117,
   "id": "22d0d790",
   "metadata": {},
   "outputs": [
    {
     "data": {
      "text/plain": [
       "company_size\n",
       "50-99        0.233207\n",
       "100-500      0.194478\n",
       "10000+       0.152723\n",
       "10/49        0.111271\n",
       "1000-4999    0.100454\n",
       "<10          0.098941\n",
       "500-999      0.066339\n",
       "5000-9999    0.042587\n",
       "Name: proportion, dtype: float64"
      ]
     },
     "execution_count": 117,
     "metadata": {},
     "output_type": "execute_result"
    }
   ],
   "source": [
    "df['company_size'].value_counts(normalize=True)"
   ]
  },
  {
   "cell_type": "code",
   "execution_count": 118,
   "id": "638a496b",
   "metadata": {},
   "outputs": [],
   "source": [
    "df['company_size'] = df['company_size'].fillna('Other')\n",
    "size = {'Other':0, '<10':1, '10/49':2, '50-99':3, '100-500':4, '500-999':5, '1000-4999':6, '5000-9999':7, '10000+':8}\n",
    "df['company_size']= df['company_size'].map(size)"
   ]
  },
  {
   "cell_type": "markdown",
   "id": "182c0d66",
   "metadata": {},
   "source": [
    "### 11.company_type\n",
    "- Type of current employer\n",
    "- Cleanining data by full filling missing values with 'Pvt Ltd' duto to highest frequency and using get_dummies"
   ]
  },
  {
   "cell_type": "code",
   "execution_count": 119,
   "id": "f89ed8f7",
   "metadata": {},
   "outputs": [
    {
     "data": {
      "text/plain": [
       "company_type\n",
       "Pvt Ltd                0.754110\n",
       "Funded Startup         0.076894\n",
       "Public Sector          0.073360\n",
       "Early Stage Startup    0.046320\n",
       "NGO                    0.040022\n",
       "Other                  0.009295\n",
       "Name: proportion, dtype: float64"
      ]
     },
     "execution_count": 119,
     "metadata": {},
     "output_type": "execute_result"
    }
   ],
   "source": [
    "df['company_type'].value_counts(normalize=True)"
   ]
  },
  {
   "cell_type": "code",
   "execution_count": 120,
   "id": "18e140d4",
   "metadata": {},
   "outputs": [],
   "source": [
    "df['company_type'] = df['company_type'].fillna(df['company_type'].mode()[0])\n",
    "df = pd.get_dummies(df, columns=['company_type'], drop_first=False, dtype=int)"
   ]
  },
  {
   "cell_type": "markdown",
   "id": "2e75fff1",
   "metadata": {},
   "source": [
    "### 12. last_new_job\n",
    "- Difference in years between previous job and current job\n",
    "- cleaning all chars which are not numbers, full filling missing as mean and changing variables into float type"
   ]
  },
  {
   "cell_type": "code",
   "execution_count": 121,
   "id": "7d154465",
   "metadata": {},
   "outputs": [
    {
     "data": {
      "text/plain": [
       "last_new_job\n",
       "1        0.429143\n",
       ">4       0.175607\n",
       "2        0.154790\n",
       "never    0.130878\n",
       "4        0.054924\n",
       "3        0.054657\n",
       "Name: proportion, dtype: float64"
      ]
     },
     "execution_count": 121,
     "metadata": {},
     "output_type": "execute_result"
    }
   ],
   "source": [
    "df['last_new_job'].value_counts(normalize=True)"
   ]
  },
  {
   "cell_type": "code",
   "execution_count": 122,
   "id": "4ab4891b",
   "metadata": {},
   "outputs": [],
   "source": [
    "df['last_new_job'] = df['last_new_job'].str.replace('>4', '5')\n",
    "df['last_new_job'] = df['last_new_job'].str.replace('never', '0')\n",
    "df['last_new_job'] = df['last_new_job'].astype('float')\n",
    "df['last_new_job'] = df['last_new_job'].fillna(df['last_new_job'].mean())"
   ]
  },
  {
   "cell_type": "markdown",
   "id": "0ae094dd",
   "metadata": {},
   "source": [
    "### 13. training_hours\n",
    "- training hours completed\n",
    "- no need for cleaning"
   ]
  },
  {
   "cell_type": "code",
   "execution_count": 123,
   "id": "c25515af",
   "metadata": {},
   "outputs": [
    {
     "data": {
      "text/plain": [
       "training_hours\n",
       "28     329\n",
       "12     292\n",
       "18     291\n",
       "22     282\n",
       "50     279\n",
       "      ... \n",
       "266      6\n",
       "234      5\n",
       "272      5\n",
       "286      5\n",
       "238      4\n",
       "Name: count, Length: 241, dtype: int64"
      ]
     },
     "execution_count": 123,
     "metadata": {},
     "output_type": "execute_result"
    }
   ],
   "source": [
    "df['training_hours'].value_counts()"
   ]
  },
  {
   "cell_type": "markdown",
   "id": "cc063014",
   "metadata": {},
   "source": [
    "# Missing check"
   ]
  },
  {
   "cell_type": "code",
   "execution_count": 124,
   "id": "9d950a5f",
   "metadata": {},
   "outputs": [
    {
     "name": "stdout",
     "output_type": "stream",
     "text": [
      "Any missing sample in training set: False\n"
     ]
    }
   ],
   "source": [
    "print(\"Any missing sample in training set:\",df.isnull().values.any())"
   ]
  },
  {
   "cell_type": "markdown",
   "id": "3bf14bf8",
   "metadata": {},
   "source": [
    "## Train test split\n",
    "Dividing the data into training and testing parts as in next step the training set will be resampled to increase the records of minority class"
   ]
  },
  {
   "cell_type": "code",
   "execution_count": 125,
   "id": "3568caa3",
   "metadata": {},
   "outputs": [],
   "source": [
    "from sklearn.model_selection import  train_test_split"
   ]
  },
  {
   "cell_type": "code",
   "execution_count": 126,
   "id": "e480aebd",
   "metadata": {},
   "outputs": [],
   "source": [
    "y = df['target']\n",
    "X = df.drop(columns=['target'])\n",
    "X_train, X_test, y_train, y_test = train_test_split(X, y, test_size=0.3, stratify=y, random_state=42)"
   ]
  },
  {
   "cell_type": "markdown",
   "id": "5fcf90b7",
   "metadata": {},
   "source": [
    "### 14. target:\n",
    " - 0 – Not looking for job change, \n",
    " - 1 – Looking for a job change\n",
    " - The target variable is not distributed equably, so I use resampling to increase the smaller class"
   ]
  },
  {
   "cell_type": "code",
   "execution_count": 127,
   "id": "e72967c4",
   "metadata": {},
   "outputs": [
    {
     "data": {
      "text/plain": [
       "target\n",
       "0.0    14381\n",
       "1.0     4777\n",
       "Name: count, dtype: int64"
      ]
     },
     "execution_count": 127,
     "metadata": {},
     "output_type": "execute_result"
    }
   ],
   "source": [
    "df['target'].value_counts()"
   ]
  },
  {
   "cell_type": "code",
   "execution_count": 128,
   "id": "485fe471",
   "metadata": {},
   "outputs": [
    {
     "data": {
      "text/plain": [
       "target\n",
       "0.0    10066\n",
       "1.0     3344\n",
       "Name: count, dtype: int64"
      ]
     },
     "execution_count": 128,
     "metadata": {},
     "output_type": "execute_result"
    }
   ],
   "source": [
    "df_train = pd.concat([X_train, y_train], axis = 1) \n",
    "df_train['target'].value_counts()"
   ]
  },
  {
   "cell_type": "code",
   "execution_count": 129,
   "id": "efe4ac50",
   "metadata": {},
   "outputs": [],
   "source": [
    "from sklearn.utils import resample\n",
    "\n",
    "df_train = pd.concat([X_train, y_train], axis = 1)       \n",
    "\n",
    "df_majority = df_train[df_train['target'] == 0]\n",
    "df_minority = df_train[df_train['target'] == 1]\n",
    "\n",
    "df_minority_upsampled = resample(df_minority, \n",
    "                                 replace=True,    # sample with replacement\n",
    "                                 n_samples=10066,    # to match majority class\n",
    "                                 random_state=42) # reproducible results\n",
    " \n",
    "df_upsampled = pd.concat([df_majority, df_minority_upsampled])       "
   ]
  },
  {
   "cell_type": "code",
   "execution_count": 130,
   "id": "90646552",
   "metadata": {},
   "outputs": [
    {
     "data": {
      "text/plain": [
       "target\n",
       "0.0    10066\n",
       "1.0    10066\n",
       "Name: count, dtype: int64"
      ]
     },
     "execution_count": 130,
     "metadata": {},
     "output_type": "execute_result"
    }
   ],
   "source": [
    "df_upsampled['target'].value_counts()"
   ]
  },
  {
   "cell_type": "markdown",
   "id": "18fe131b",
   "metadata": {},
   "source": [
    "## Train test split of upsampled df"
   ]
  },
  {
   "cell_type": "code",
   "execution_count": 131,
   "id": "4c49511b",
   "metadata": {},
   "outputs": [],
   "source": [
    "y = df_upsampled['target']\n",
    "X = df_upsampled.drop(columns=['target'])\n",
    "X_train_up, X_test_up, y_train_up, y_test_up = train_test_split(X, y, test_size=0.3, stratify=y, random_state=42)"
   ]
  },
  {
   "cell_type": "markdown",
   "id": "930e777f",
   "metadata": {},
   "source": [
    "# Feature importances"
   ]
  },
  {
   "cell_type": "code",
   "execution_count": 132,
   "id": "f83c17ab",
   "metadata": {},
   "outputs": [
    {
     "data": {
      "image/png": "[encoded data removed]",
      "text/plain": [
       "<Figure size 600x800 with 1 Axes>"
      ]
     },
     "metadata": {},
     "output_type": "display_data"
    }
   ],
   "source": [
    "from sklearn.tree import DecisionTreeClassifier\n",
    "model = DecisionTreeClassifier()\n",
    "model.fit(X_train_up, y_train_up)\n",
    "\n",
    "feature_importances = dict(zip(model.feature_names_in_, model.feature_importances_))\n",
    "feature_importances = pd.Series(feature_importances).sort_values(ascending=False)\n",
    "\n",
    "import matplotlib.pyplot as plt\n",
    "import seaborn as sns\n",
    "\n",
    "plt.figure(figsize=(6, 8))\n",
    "plt.barh(feature_importances.index, feature_importances.values)\n",
    "plt.show()"
   ]
  },
  {
   "cell_type": "markdown",
   "id": "49e30333",
   "metadata": {},
   "source": [
    "Using the decision tree model and the futures importances function I investigate which transformation has the greatest impact on the model. In previous changes I often used encoding but I noticed that it causes a lot of features with minimal importance on the model. That is why I often decide to use mapping or label encoder and I think that the weights of the current features should create the best model result"
   ]
  },
  {
   "cell_type": "markdown",
   "id": "99663cd6",
   "metadata": {},
   "source": [
    "# Chapter 4: Modeling"
   ]
  },
  {
   "cell_type": "markdown",
   "id": "8dc65e82",
   "metadata": {},
   "source": [
    "I choose Tree-Based Algorithms becouse the data contains plenty of categorical variables. I decided not to use logistic regression because in the previous attempt after rescaling the data the model achieved a very low result. The data on which the model is trained is not suitable for logistic regression because it almost does not contain continuous numerical features."
   ]
  },
  {
   "cell_type": "code",
   "execution_count": 133,
   "id": "40b28b4c",
   "metadata": {},
   "outputs": [],
   "source": [
    "from sklearn.metrics import f1_score\n",
    "\n",
    "from sklearn.ensemble import BaggingClassifier\n",
    "from sklearn.ensemble import AdaBoostClassifier\n",
    "from sklearn.tree import DecisionTreeClassifier\n",
    "from sklearn.ensemble import RandomForestClassifier\n",
    "from catboost import CatBoostClassifier\n",
    "import xgboost as xgb\n",
    "\n",
    "from sklearn.model_selection import KFold, StratifiedKFold, cross_val_score\n",
    "from sklearn.utils import resample"
   ]
  },
  {
   "cell_type": "code",
   "execution_count": 134,
   "id": "0e4a0727",
   "metadata": {},
   "outputs": [],
   "source": [
    "models = {\n",
    "    \"RandomForest\": RandomForestClassifier(random_state=42),\n",
    "    \"Bagging\": BaggingClassifier(random_state=42),\n",
    "    \"Decision Tree\": DecisionTreeClassifier(random_state=42),\n",
    "    \"XGB\": xgb.XGBClassifier(random_state=42),\n",
    "    \"AdaBoost\": AdaBoostClassifier(random_state=42),\n",
    "    \"CatBoost\": CatBoostClassifier(verbose = False, random_state=42)\n",
    "}\n",
    "\n",
    "kf = KFold(n_splits=10, shuffle=True, random_state=42)\n",
    "fold_metrics = []\n",
    "result = []\n",
    "\n",
    "for model in models.values():\n",
    "    for train_index, test_index in kf.split(df):\n",
    "        cv_train, cv_test = df.iloc[train_index],df.iloc[test_index]\n",
    "        \n",
    "        df_train = pd.concat([X_train, y_train], axis = 1)    \n",
    "        df_majority = cv_train[cv_train['target'] == 0]\n",
    "        df_minority = cv_train[cv_train['target'] == 1]\n",
    "\n",
    "        df_minority_upsampled = resample(df_minority, \n",
    "                                 replace=True,    # sample with replacement\n",
    "                                 n_samples=df_majority.shape[0],    # to match majority class\n",
    "                                 random_state=42) # reproducible results\n",
    " \n",
    "        df_upsampled = pd.concat([df_majority, df_minority_upsampled])    \n",
    "    \n",
    "        cv_train_X = df_upsampled.drop(\"target\", axis=1).values\n",
    "        cv_train_y = df_upsampled[\"target\"].values\n",
    "    \n",
    "        cv_test_X = cv_test.drop(\"target\", axis=1).values\n",
    "        cv_test_y = cv_test[\"target\"].values\n",
    "    \n",
    "        model.fit(cv_train_X,cv_train_y)\n",
    "        predictions = model.predict(cv_test_X)\n",
    "        metric = f1_score(cv_test_y,predictions)\n",
    "        fold_metrics.append(metric)\n",
    "    result.append(fold_metrics)\n",
    "    fold_metrics = []"
   ]
  },
  {
   "cell_type": "code",
   "execution_count": 135,
   "id": "3e800945",
   "metadata": {},
   "outputs": [
    {
     "data": {
      "image/png": "[encoded data removed]",
      "text/plain": [
       "<Figure size 640x480 with 1 Axes>"
      ]
     },
     "metadata": {},
     "output_type": "display_data"
    }
   ],
   "source": [
    "sns.boxplot(data=result)\n",
    "plt.xticks(ticks=range(len(models)), labels=models.keys(), rotation=90)\n",
    "plt.ylabel(\"Cross-Validation Scores\")\n",
    "plt.xlabel(\"Models\")\n",
    "plt.title(\"Model Comparison\")\n",
    "plt.show()"
   ]
  },
  {
   "cell_type": "markdown",
   "id": "4354850a",
   "metadata": {},
   "source": [
    "The best result was achieved by the model on Radome Forest, so in the next part I will investigate which parameters are best to use."
   ]
  },
  {
   "cell_type": "code",
   "execution_count": 136,
   "id": "6ed992eb",
   "metadata": {},
   "outputs": [],
   "source": [
    "from sklearn.metrics import accuracy_score, precision_score, recall_score, f1_score\n",
    "\n",
    "def calculate_metrics(target, prediction, average='macro'):\n",
    "    accuracy = accuracy_score(target, prediction)\n",
    "    precision = precision_score(target, prediction, average=average, zero_division = 0)\n",
    "    recall = recall_score(target, prediction, average=average)\n",
    "    f1 = f1_score(target, prediction, average=average)\n",
    "    mislabeled = (target != prediction).sum()\n",
    "    total = len(target)\n",
    "    return accuracy, precision, recall, f1, mislabeled, total    \n",
    "\n",
    "def print_results(metrics, classifier_id='classifier'):\n",
    "    print(f'Results for {classifier_id}')\n",
    "    print('----')\n",
    "    print(f'  Accuracy:  {metrics[0]}')\n",
    "    print(f'  Precision: {metrics[1]}')\n",
    "    print(f'  Recall:    {metrics[2]}')\n",
    "    print(f'  F1 score:  {metrics[3]}')\n",
    "    print(f'  Mislabeled {metrics[4]} out of {metrics[5]}')"
   ]
  },
  {
   "cell_type": "markdown",
   "id": "753e7584",
   "metadata": {},
   "source": [
    "In addition, I check how neural network models work on tabular data, usually much better results are obtained using learning machines, and it is the same in this case."
   ]
  },
  {
   "cell_type": "code",
   "execution_count": 137,
   "id": "c278297b",
   "metadata": {},
   "outputs": [
    {
     "name": "stdout",
     "output_type": "stream",
     "text": [
      "Results for MLPClassifier\n",
      "----\n",
      "  Accuracy:  0.7310368823938761\n",
      "  Precision: 0.6889316431663006\n",
      "  Recall:    0.742554858617313\n",
      "  F1 score:  0.6936507323638348\n",
      "  Mislabeled 1546 out of 5748\n"
     ]
    }
   ],
   "source": [
    "from sklearn.neural_network import MLPClassifier\n",
    "from sklearn.model_selection import train_test_split\n",
    "from sklearn.datasets import load_wine\n",
    "from sklearn.preprocessing import StandardScaler\n",
    "from sklearn.metrics import classification_report\n",
    "\n",
    "clf_model = MLPClassifier(\n",
    "    hidden_layer_sizes=(8, 10, 4),\n",
    "    activation='relu',\n",
    "    solver='adam',\n",
    "    max_iter=1000,\n",
    "    batch_size=32,\n",
    "    random_state=42\n",
    ")\n",
    "\n",
    "clf_model.fit(X_train_up, y_train_up)\n",
    "y_pred = clf_model.predict(X_test)\n",
    "print_results(calculate_metrics(y_test, y_pred),classifier_id='MLPClassifier')"
   ]
  },
  {
   "cell_type": "code",
   "execution_count": 138,
   "id": "b0fc0639",
   "metadata": {},
   "outputs": [
    {
     "data": {
      "text/html": [
       "<style>#sk-container-id-4 {color: black;background-color: white;}#sk-container-id-4 pre{padding: 0;}#sk-container-id-4 div.sk-toggleable {background-color: white;}#sk-container-id-4 label.sk-toggleable__label {cursor: pointer;display: block;width: 100%;margin-bottom: 0;padding: 0.3em;box-sizing: border-box;text-align: center;}#sk-container-id-4 label.sk-toggleable__label-arrow:before {content: \"▸\";float: left;margin-right: 0.25em;color: #696969;}#sk-container-id-4 label.sk-toggleable__label-arrow:hover:before {color: black;}#sk-container-id-4 div.sk-estimator:hover label.sk-toggleable__label-arrow:before {color: black;}#sk-container-id-4 div.sk-toggleable__content {max-height: 0;max-width: 0;overflow: hidden;text-align: left;background-color: #f0f8ff;}#sk-container-id-4 div.sk-toggleable__content pre {margin: 0.2em;color: black;border-radius: 0.25em;background-color: #f0f8ff;}#sk-container-id-4 input.sk-toggleable__control:checked~div.sk-toggleable__content {max-height: 200px;max-width: 100%;overflow: auto;}#sk-container-id-4 input.sk-toggleable__control:checked~label.sk-toggleable__label-arrow:before {content: \"▾\";}#sk-container-id-4 div.sk-estimator input.sk-toggleable__control:checked~label.sk-toggleable__label {background-color: #d4ebff;}#sk-container-id-4 div.sk-label input.sk-toggleable__control:checked~label.sk-toggleable__label {background-color: #d4ebff;}#sk-container-id-4 input.sk-hidden--visually {border: 0;clip: rect(1px 1px 1px 1px);clip: rect(1px, 1px, 1px, 1px);height: 1px;margin: -1px;overflow: hidden;padding: 0;position: absolute;width: 1px;}#sk-container-id-4 div.sk-estimator {font-family: monospace;background-color: #f0f8ff;border: 1px dotted black;border-radius: 0.25em;box-sizing: border-box;margin-bottom: 0.5em;}#sk-container-id-4 div.sk-estimator:hover {background-color: #d4ebff;}#sk-container-id-4 div.sk-parallel-item::after {content: \"\";width: 100%;border-bottom: 1px solid gray;flex-grow: 1;}#sk-container-id-4 div.sk-label:hover label.sk-toggleable__label {background-color: #d4ebff;}#sk-container-id-4 div.sk-serial::before {content: \"\";position: absolute;border-left: 1px solid gray;box-sizing: border-box;top: 0;bottom: 0;left: 50%;z-index: 0;}#sk-container-id-4 div.sk-serial {display: flex;flex-direction: column;align-items: center;background-color: white;padding-right: 0.2em;padding-left: 0.2em;position: relative;}#sk-container-id-4 div.sk-item {position: relative;z-index: 1;}#sk-container-id-4 div.sk-parallel {display: flex;align-items: stretch;justify-content: center;background-color: white;position: relative;}#sk-container-id-4 div.sk-item::before, #sk-container-id-4 div.sk-parallel-item::before {content: \"\";position: absolute;border-left: 1px solid gray;box-sizing: border-box;top: 0;bottom: 0;left: 50%;z-index: -1;}#sk-container-id-4 div.sk-parallel-item {display: flex;flex-direction: column;z-index: 1;position: relative;background-color: white;}#sk-container-id-4 div.sk-parallel-item:first-child::after {align-self: flex-end;width: 50%;}#sk-container-id-4 div.sk-parallel-item:last-child::after {align-self: flex-start;width: 50%;}#sk-container-id-4 div.sk-parallel-item:only-child::after {width: 0;}#sk-container-id-4 div.sk-dashed-wrapped {border: 1px dashed gray;margin: 0 0.4em 0.5em 0.4em;box-sizing: border-box;padding-bottom: 0.4em;background-color: white;}#sk-container-id-4 div.sk-label label {font-family: monospace;font-weight: bold;display: inline-block;line-height: 1.2em;}#sk-container-id-4 div.sk-label-container {text-align: center;}#sk-container-id-4 div.sk-container {/* jupyter's `normalize.less` sets `[hidden] { display: none; }` but bootstrap.min.css set `[hidden] { display: none !important; }` so we also need the `!important` here to be able to override the default hidden behavior on the sphinx rendered scikit-learn.org. See: https://github.com/scikit-learn/scikit-learn/issues/21755 */display: inline-block !important;position: relative;}#sk-container-id-4 div.sk-text-repr-fallback {display: none;}</style><div id=\"sk-container-id-4\" class=\"sk-top-container\"><div class=\"sk-text-repr-fallback\"><pre>GridSearchCV(cv=KFold(n_splits=5, random_state=42, shuffle=True),\n",
       "             estimator=XGBClassifier(base_score=None, booster=None,\n",
       "                                     callbacks=None, colsample_bylevel=None,\n",
       "                                     colsample_bynode=None,\n",
       "                                     colsample_bytree=None, device=None,\n",
       "                                     early_stopping_rounds=None,\n",
       "                                     enable_categorical=False, eval_metric=None,\n",
       "                                     feature_types=None, gamma=None,\n",
       "                                     grow_policy=None, importance_type=None,\n",
       "                                     int...\n",
       "                                     max_delta_step=None, max_depth=None,\n",
       "                                     max_leaves=None, min_child_weight=None,\n",
       "                                     missing=nan, monotone_constraints=None,\n",
       "                                     multi_strategy=None, n_estimators=None,\n",
       "                                     n_jobs=None, num_parallel_tree=None,\n",
       "                                     random_state=42, ...),\n",
       "             param_grid={&#x27;colsample_bytree&#x27;: [0.6, 0.8, 1.0],\n",
       "                         &#x27;gamma&#x27;: [0.5, 1, 1.5, 2, 5], &#x27;max_depth&#x27;: [3, 4, 5],\n",
       "                         &#x27;min_child_weight&#x27;: [1, 5, 10],\n",
       "                         &#x27;subsample&#x27;: [0.6, 0.8, 1.0]},\n",
       "             scoring=&#x27;f1_micro&#x27;)</pre><b>In a Jupyter environment, please rerun this cell to show the HTML representation or trust the notebook. <br />On GitHub, the HTML representation is unable to render, please try loading this page with nbviewer.org.</b></div><div class=\"sk-container\" hidden><div class=\"sk-item sk-dashed-wrapped\"><div class=\"sk-label-container\"><div class=\"sk-label sk-toggleable\"><input class=\"sk-toggleable__control sk-hidden--visually\" id=\"sk-estimator-id-8\" type=\"checkbox\" ><label for=\"sk-estimator-id-8\" class=\"sk-toggleable__label sk-toggleable__label-arrow\">GridSearchCV</label><div class=\"sk-toggleable__content\"><pre>GridSearchCV(cv=KFold(n_splits=5, random_state=42, shuffle=True),\n",
       "             estimator=XGBClassifier(base_score=None, booster=None,\n",
       "                                     callbacks=None, colsample_bylevel=None,\n",
       "                                     colsample_bynode=None,\n",
       "                                     colsample_bytree=None, device=None,\n",
       "                                     early_stopping_rounds=None,\n",
       "                                     enable_categorical=False, eval_metric=None,\n",
       "                                     feature_types=None, gamma=None,\n",
       "                                     grow_policy=None, importance_type=None,\n",
       "                                     int...\n",
       "                                     max_delta_step=None, max_depth=None,\n",
       "                                     max_leaves=None, min_child_weight=None,\n",
       "                                     missing=nan, monotone_constraints=None,\n",
       "                                     multi_strategy=None, n_estimators=None,\n",
       "                                     n_jobs=None, num_parallel_tree=None,\n",
       "                                     random_state=42, ...),\n",
       "             param_grid={&#x27;colsample_bytree&#x27;: [0.6, 0.8, 1.0],\n",
       "                         &#x27;gamma&#x27;: [0.5, 1, 1.5, 2, 5], &#x27;max_depth&#x27;: [3, 4, 5],\n",
       "                         &#x27;min_child_weight&#x27;: [1, 5, 10],\n",
       "                         &#x27;subsample&#x27;: [0.6, 0.8, 1.0]},\n",
       "             scoring=&#x27;f1_micro&#x27;)</pre></div></div></div><div class=\"sk-parallel\"><div class=\"sk-parallel-item\"><div class=\"sk-item\"><div class=\"sk-label-container\"><div class=\"sk-label sk-toggleable\"><input class=\"sk-toggleable__control sk-hidden--visually\" id=\"sk-estimator-id-9\" type=\"checkbox\" ><label for=\"sk-estimator-id-9\" class=\"sk-toggleable__label sk-toggleable__label-arrow\">estimator: XGBClassifier</label><div class=\"sk-toggleable__content\"><pre>XGBClassifier(base_score=None, booster=None, callbacks=None,\n",
       "              colsample_bylevel=None, colsample_bynode=None,\n",
       "              colsample_bytree=None, device=None, early_stopping_rounds=None,\n",
       "              enable_categorical=False, eval_metric=None, feature_types=None,\n",
       "              gamma=None, grow_policy=None, importance_type=None,\n",
       "              interaction_constraints=None, learning_rate=None, max_bin=None,\n",
       "              max_cat_threshold=None, max_cat_to_onehot=None,\n",
       "              max_delta_step=None, max_depth=None, max_leaves=None,\n",
       "              min_child_weight=None, missing=nan, monotone_constraints=None,\n",
       "              multi_strategy=None, n_estimators=None, n_jobs=None,\n",
       "              num_parallel_tree=None, random_state=42, ...)</pre></div></div></div><div class=\"sk-serial\"><div class=\"sk-item\"><div class=\"sk-estimator sk-toggleable\"><input class=\"sk-toggleable__control sk-hidden--visually\" id=\"sk-estimator-id-10\" type=\"checkbox\" ><label for=\"sk-estimator-id-10\" class=\"sk-toggleable__label sk-toggleable__label-arrow\">XGBClassifier</label><div class=\"sk-toggleable__content\"><pre>XGBClassifier(base_score=None, booster=None, callbacks=None,\n",
       "              colsample_bylevel=None, colsample_bynode=None,\n",
       "              colsample_bytree=None, device=None, early_stopping_rounds=None,\n",
       "              enable_categorical=False, eval_metric=None, feature_types=None,\n",
       "              gamma=None, grow_policy=None, importance_type=None,\n",
       "              interaction_constraints=None, learning_rate=None, max_bin=None,\n",
       "              max_cat_threshold=None, max_cat_to_onehot=None,\n",
       "              max_delta_step=None, max_depth=None, max_leaves=None,\n",
       "              min_child_weight=None, missing=nan, monotone_constraints=None,\n",
       "              multi_strategy=None, n_estimators=None, n_jobs=None,\n",
       "              num_parallel_tree=None, random_state=42, ...)</pre></div></div></div></div></div></div></div></div></div></div>"
      ],
      "text/plain": [
       "GridSearchCV(cv=KFold(n_splits=5, random_state=42, shuffle=True),\n",
       "             estimator=XGBClassifier(base_score=None, booster=None,\n",
       "                                     callbacks=None, colsample_bylevel=None,\n",
       "                                     colsample_bynode=None,\n",
       "                                     colsample_bytree=None, device=None,\n",
       "                                     early_stopping_rounds=None,\n",
       "                                     enable_categorical=False, eval_metric=None,\n",
       "                                     feature_types=None, gamma=None,\n",
       "                                     grow_policy=None, importance_type=None,\n",
       "                                     int...\n",
       "                                     max_delta_step=None, max_depth=None,\n",
       "                                     max_leaves=None, min_child_weight=None,\n",
       "                                     missing=nan, monotone_constraints=None,\n",
       "                                     multi_strategy=None, n_estimators=None,\n",
       "                                     n_jobs=None, num_parallel_tree=None,\n",
       "                                     random_state=42, ...),\n",
       "             param_grid={'colsample_bytree': [0.6, 0.8, 1.0],\n",
       "                         'gamma': [0.5, 1, 1.5, 2, 5], 'max_depth': [3, 4, 5],\n",
       "                         'min_child_weight': [1, 5, 10],\n",
       "                         'subsample': [0.6, 0.8, 1.0]},\n",
       "             scoring='f1_micro')"
      ]
     },
     "execution_count": 138,
     "metadata": {},
     "output_type": "execute_result"
    }
   ],
   "source": [
    "from sklearn.model_selection import GridSearchCV\n",
    "\n",
    "model = xgb.XGBClassifier(random_state=42)\n",
    "kf = KFold(n_splits=5, shuffle=True, random_state=42)\n",
    "param_grid = {\n",
    "        'min_child_weight': [1, 5, 10],\n",
    "        'gamma': [0.5, 1, 1.5, 2, 5],\n",
    "        'subsample': [0.6, 0.8, 1.0],\n",
    "        'colsample_bytree': [0.6, 0.8, 1.0],\n",
    "        'max_depth': [3, 4, 5]\n",
    "        }\n",
    "    \n",
    "\n",
    "best_model = GridSearchCV(model, param_grid=param_grid, cv=kf, scoring = 'f1_micro')\n",
    "best_model.fit(X_train_up, y_train_up)"
   ]
  },
  {
   "cell_type": "code",
   "execution_count": 139,
   "id": "1e0500de",
   "metadata": {},
   "outputs": [
    {
     "name": "stdout",
     "output_type": "stream",
     "text": [
      "XGBClassifier(base_score=None, booster=None, callbacks=None,\n",
      "              colsample_bylevel=None, colsample_bynode=None,\n",
      "              colsample_bytree=0.8, device=None, early_stopping_rounds=None,\n",
      "              enable_categorical=False, eval_metric=None, feature_types=None,\n",
      "              gamma=0.5, grow_policy=None, importance_type=None,\n",
      "              interaction_constraints=None, learning_rate=None, max_bin=None,\n",
      "              max_cat_threshold=None, max_cat_to_onehot=None,\n",
      "              max_delta_step=None, max_depth=5, max_leaves=None,\n",
      "              min_child_weight=1, missing=nan, monotone_constraints=None,\n",
      "              multi_strategy=None, n_estimators=None, n_jobs=None,\n",
      "              num_parallel_tree=None, random_state=42, ...) {'colsample_bytree': 0.8, 'gamma': 0.5, 'max_depth': 5, 'min_child_weight': 1, 'subsample': 0.8}\n"
     ]
    }
   ],
   "source": [
    "best_lr = best_model.best_estimator_\n",
    "best_params = best_model.best_params_\n",
    "# coefs = best_model.coef_\n",
    "print(best_lr, best_params)"
   ]
  },
  {
   "cell_type": "code",
   "execution_count": 140,
   "id": "f1047c74",
   "metadata": {},
   "outputs": [
    {
     "name": "stdout",
     "output_type": "stream",
     "text": [
      "Results for xgb.XGBClassifier\n",
      "----\n",
      "  Accuracy:  0.7785316631871956\n",
      "  Precision: 0.7204134022219781\n",
      "  Recall:    0.7634686931693673\n",
      "  F1 score:  0.7330303602457278\n",
      "  Mislabeled 1273 out of 5748\n"
     ]
    }
   ],
   "source": [
    "model = xgb.XGBClassifier(min_child_weight=1, gamma=0.5, subsample=0.8, colsample_bytree=0.8,\n",
    "        max_depth = 5, random_state=42)\n",
    "model.fit(X_train_up, y_train_up)\n",
    "y_pred = model.predict(X_test)\n",
    "print_results(calculate_metrics(y_test, y_pred),classifier_id='xgb.XGBClassifier')"
   ]
  },
  {
   "cell_type": "code",
   "execution_count": 141,
   "id": "bf98e1d8",
   "metadata": {},
   "outputs": [
    {
     "data": {
      "text/html": [
       "<div>\n",
       "<style scoped>\n",
       "    .dataframe tbody tr th:only-of-type {\n",
       "        vertical-align: middle;\n",
       "    }\n",
       "\n",
       "    .dataframe tbody tr th {\n",
       "        vertical-align: top;\n",
       "    }\n",
       "\n",
       "    .dataframe thead th {\n",
       "        text-align: right;\n",
       "    }\n",
       "</style>\n",
       "<table border=\"1\" class=\"dataframe\">\n",
       "  <thead>\n",
       "    <tr style=\"text-align: right;\">\n",
       "      <th></th>\n",
       "      <th>mean_fit_time</th>\n",
       "      <th>std_fit_time</th>\n",
       "      <th>mean_score_time</th>\n",
       "      <th>std_score_time</th>\n",
       "      <th>param_colsample_bytree</th>\n",
       "      <th>param_gamma</th>\n",
       "      <th>param_max_depth</th>\n",
       "      <th>param_min_child_weight</th>\n",
       "      <th>param_subsample</th>\n",
       "      <th>params</th>\n",
       "      <th>split0_test_score</th>\n",
       "      <th>split1_test_score</th>\n",
       "      <th>split2_test_score</th>\n",
       "      <th>split3_test_score</th>\n",
       "      <th>split4_test_score</th>\n",
       "      <th>mean_test_score</th>\n",
       "      <th>std_test_score</th>\n",
       "      <th>rank_test_score</th>\n",
       "    </tr>\n",
       "  </thead>\n",
       "  <tbody>\n",
       "    <tr>\n",
       "      <th>154</th>\n",
       "      <td>0.628259</td>\n",
       "      <td>0.111961</td>\n",
       "      <td>0.023403</td>\n",
       "      <td>0.004804</td>\n",
       "      <td>0.8</td>\n",
       "      <td>0.5</td>\n",
       "      <td>5</td>\n",
       "      <td>1</td>\n",
       "      <td>0.8</td>\n",
       "      <td>{'colsample_bytree': 0.8, 'gamma': 0.5, 'max_d...</td>\n",
       "      <td>0.803831</td>\n",
       "      <td>0.788932</td>\n",
       "      <td>0.811923</td>\n",
       "      <td>0.797729</td>\n",
       "      <td>0.800568</td>\n",
       "      <td>0.800597</td>\n",
       "      <td>0.007524</td>\n",
       "      <td>1</td>\n",
       "    </tr>\n",
       "    <tr>\n",
       "      <th>289</th>\n",
       "      <td>0.346129</td>\n",
       "      <td>0.043906</td>\n",
       "      <td>0.017372</td>\n",
       "      <td>0.001090</td>\n",
       "      <td>1.0</td>\n",
       "      <td>0.5</td>\n",
       "      <td>5</td>\n",
       "      <td>1</td>\n",
       "      <td>0.8</td>\n",
       "      <td>{'colsample_bytree': 1.0, 'gamma': 0.5, 'max_d...</td>\n",
       "      <td>0.807024</td>\n",
       "      <td>0.790351</td>\n",
       "      <td>0.810859</td>\n",
       "      <td>0.789922</td>\n",
       "      <td>0.804826</td>\n",
       "      <td>0.800596</td>\n",
       "      <td>0.008757</td>\n",
       "      <td>2</td>\n",
       "    </tr>\n",
       "    <tr>\n",
       "      <th>316</th>\n",
       "      <td>0.305087</td>\n",
       "      <td>0.008040</td>\n",
       "      <td>0.017001</td>\n",
       "      <td>0.000634</td>\n",
       "      <td>1.0</td>\n",
       "      <td>1</td>\n",
       "      <td>5</td>\n",
       "      <td>1</td>\n",
       "      <td>0.8</td>\n",
       "      <td>{'colsample_bytree': 1.0, 'gamma': 1, 'max_dep...</td>\n",
       "      <td>0.801348</td>\n",
       "      <td>0.792480</td>\n",
       "      <td>0.805536</td>\n",
       "      <td>0.790987</td>\n",
       "      <td>0.806955</td>\n",
       "      <td>0.799461</td>\n",
       "      <td>0.006591</td>\n",
       "      <td>3</td>\n",
       "    </tr>\n",
       "    <tr>\n",
       "      <th>288</th>\n",
       "      <td>0.320353</td>\n",
       "      <td>0.007883</td>\n",
       "      <td>0.017600</td>\n",
       "      <td>0.001019</td>\n",
       "      <td>1.0</td>\n",
       "      <td>0.5</td>\n",
       "      <td>5</td>\n",
       "      <td>1</td>\n",
       "      <td>0.6</td>\n",
       "      <td>{'colsample_bytree': 1.0, 'gamma': 0.5, 'max_d...</td>\n",
       "      <td>0.800639</td>\n",
       "      <td>0.790706</td>\n",
       "      <td>0.808730</td>\n",
       "      <td>0.794535</td>\n",
       "      <td>0.800568</td>\n",
       "      <td>0.799035</td>\n",
       "      <td>0.006140</td>\n",
       "      <td>4</td>\n",
       "    </tr>\n",
       "    <tr>\n",
       "      <th>153</th>\n",
       "      <td>0.487890</td>\n",
       "      <td>0.019614</td>\n",
       "      <td>0.019426</td>\n",
       "      <td>0.001707</td>\n",
       "      <td>0.8</td>\n",
       "      <td>0.5</td>\n",
       "      <td>5</td>\n",
       "      <td>1</td>\n",
       "      <td>0.6</td>\n",
       "      <td>{'colsample_bytree': 0.8, 'gamma': 0.5, 'max_d...</td>\n",
       "      <td>0.799220</td>\n",
       "      <td>0.794608</td>\n",
       "      <td>0.811214</td>\n",
       "      <td>0.789212</td>\n",
       "      <td>0.799858</td>\n",
       "      <td>0.798822</td>\n",
       "      <td>0.007279</td>\n",
       "      <td>5</td>\n",
       "    </tr>\n",
       "    <tr>\n",
       "      <th>181</th>\n",
       "      <td>0.426500</td>\n",
       "      <td>0.015632</td>\n",
       "      <td>0.019804</td>\n",
       "      <td>0.002319</td>\n",
       "      <td>0.8</td>\n",
       "      <td>1</td>\n",
       "      <td>5</td>\n",
       "      <td>1</td>\n",
       "      <td>0.8</td>\n",
       "      <td>{'colsample_bytree': 0.8, 'gamma': 1, 'max_dep...</td>\n",
       "      <td>0.807379</td>\n",
       "      <td>0.787868</td>\n",
       "      <td>0.808730</td>\n",
       "      <td>0.786373</td>\n",
       "      <td>0.803407</td>\n",
       "      <td>0.798751</td>\n",
       "      <td>0.009668</td>\n",
       "      <td>6</td>\n",
       "    </tr>\n",
       "    <tr>\n",
       "      <th>180</th>\n",
       "      <td>0.484350</td>\n",
       "      <td>0.038571</td>\n",
       "      <td>0.020001</td>\n",
       "      <td>0.002094</td>\n",
       "      <td>0.8</td>\n",
       "      <td>1</td>\n",
       "      <td>5</td>\n",
       "      <td>1</td>\n",
       "      <td>0.6</td>\n",
       "      <td>{'colsample_bytree': 0.8, 'gamma': 1, 'max_dep...</td>\n",
       "      <td>0.800639</td>\n",
       "      <td>0.782902</td>\n",
       "      <td>0.812988</td>\n",
       "      <td>0.791341</td>\n",
       "      <td>0.797374</td>\n",
       "      <td>0.797049</td>\n",
       "      <td>0.009998</td>\n",
       "      <td>7</td>\n",
       "    </tr>\n",
       "    <tr>\n",
       "      <th>292</th>\n",
       "      <td>0.337834</td>\n",
       "      <td>0.036924</td>\n",
       "      <td>0.020301</td>\n",
       "      <td>0.002224</td>\n",
       "      <td>1.0</td>\n",
       "      <td>0.5</td>\n",
       "      <td>5</td>\n",
       "      <td>5</td>\n",
       "      <td>0.8</td>\n",
       "      <td>{'colsample_bytree': 1.0, 'gamma': 0.5, 'max_d...</td>\n",
       "      <td>0.792125</td>\n",
       "      <td>0.789287</td>\n",
       "      <td>0.814053</td>\n",
       "      <td>0.786018</td>\n",
       "      <td>0.797374</td>\n",
       "      <td>0.795771</td>\n",
       "      <td>0.009872</td>\n",
       "      <td>8</td>\n",
       "    </tr>\n",
       "    <tr>\n",
       "      <th>342</th>\n",
       "      <td>0.513971</td>\n",
       "      <td>0.371688</td>\n",
       "      <td>0.020324</td>\n",
       "      <td>0.004095</td>\n",
       "      <td>1.0</td>\n",
       "      <td>1.5</td>\n",
       "      <td>5</td>\n",
       "      <td>1</td>\n",
       "      <td>0.6</td>\n",
       "      <td>{'colsample_bytree': 1.0, 'gamma': 1.5, 'max_d...</td>\n",
       "      <td>0.803476</td>\n",
       "      <td>0.776162</td>\n",
       "      <td>0.809439</td>\n",
       "      <td>0.791341</td>\n",
       "      <td>0.797729</td>\n",
       "      <td>0.795630</td>\n",
       "      <td>0.011437</td>\n",
       "      <td>9</td>\n",
       "    </tr>\n",
       "    <tr>\n",
       "      <th>315</th>\n",
       "      <td>0.321833</td>\n",
       "      <td>0.006836</td>\n",
       "      <td>0.017057</td>\n",
       "      <td>0.000067</td>\n",
       "      <td>1.0</td>\n",
       "      <td>1</td>\n",
       "      <td>5</td>\n",
       "      <td>1</td>\n",
       "      <td>0.6</td>\n",
       "      <td>{'colsample_bytree': 1.0, 'gamma': 1, 'max_dep...</td>\n",
       "      <td>0.793189</td>\n",
       "      <td>0.780419</td>\n",
       "      <td>0.809794</td>\n",
       "      <td>0.787438</td>\n",
       "      <td>0.805536</td>\n",
       "      <td>0.795275</td>\n",
       "      <td>0.010978</td>\n",
       "      <td>10</td>\n",
       "    </tr>\n",
       "  </tbody>\n",
       "</table>\n",
       "</div>"
      ],
      "text/plain": [
       "     mean_fit_time  std_fit_time  mean_score_time  std_score_time  \\\n",
       "154       0.628259      0.111961         0.023403        0.004804   \n",
       "289       0.346129      0.043906         0.017372        0.001090   \n",
       "316       0.305087      0.008040         0.017001        0.000634   \n",
       "288       0.320353      0.007883         0.017600        0.001019   \n",
       "153       0.487890      0.019614         0.019426        0.001707   \n",
       "181       0.426500      0.015632         0.019804        0.002319   \n",
       "180       0.484350      0.038571         0.020001        0.002094   \n",
       "292       0.337834      0.036924         0.020301        0.002224   \n",
       "342       0.513971      0.371688         0.020324        0.004095   \n",
       "315       0.321833      0.006836         0.017057        0.000067   \n",
       "\n",
       "    param_colsample_bytree param_gamma param_max_depth param_min_child_weight  \\\n",
       "154                    0.8         0.5               5                      1   \n",
       "289                    1.0         0.5               5                      1   \n",
       "316                    1.0           1               5                      1   \n",
       "288                    1.0         0.5               5                      1   \n",
       "153                    0.8         0.5               5                      1   \n",
       "181                    0.8           1               5                      1   \n",
       "180                    0.8           1               5                      1   \n",
       "292                    1.0         0.5               5                      5   \n",
       "342                    1.0         1.5               5                      1   \n",
       "315                    1.0           1               5                      1   \n",
       "\n",
       "    param_subsample                                             params  \\\n",
       "154             0.8  {'colsample_bytree': 0.8, 'gamma': 0.5, 'max_d...   \n",
       "289             0.8  {'colsample_bytree': 1.0, 'gamma': 0.5, 'max_d...   \n",
       "316             0.8  {'colsample_bytree': 1.0, 'gamma': 1, 'max_dep...   \n",
       "288             0.6  {'colsample_bytree': 1.0, 'gamma': 0.5, 'max_d...   \n",
       "153             0.6  {'colsample_bytree': 0.8, 'gamma': 0.5, 'max_d...   \n",
       "181             0.8  {'colsample_bytree': 0.8, 'gamma': 1, 'max_dep...   \n",
       "180             0.6  {'colsample_bytree': 0.8, 'gamma': 1, 'max_dep...   \n",
       "292             0.8  {'colsample_bytree': 1.0, 'gamma': 0.5, 'max_d...   \n",
       "342             0.6  {'colsample_bytree': 1.0, 'gamma': 1.5, 'max_d...   \n",
       "315             0.6  {'colsample_bytree': 1.0, 'gamma': 1, 'max_dep...   \n",
       "\n",
       "     split0_test_score  split1_test_score  split2_test_score  \\\n",
       "154           0.803831           0.788932           0.811923   \n",
       "289           0.807024           0.790351           0.810859   \n",
       "316           0.801348           0.792480           0.805536   \n",
       "288           0.800639           0.790706           0.808730   \n",
       "153           0.799220           0.794608           0.811214   \n",
       "181           0.807379           0.787868           0.808730   \n",
       "180           0.800639           0.782902           0.812988   \n",
       "292           0.792125           0.789287           0.814053   \n",
       "342           0.803476           0.776162           0.809439   \n",
       "315           0.793189           0.780419           0.809794   \n",
       "\n",
       "     split3_test_score  split4_test_score  mean_test_score  std_test_score  \\\n",
       "154           0.797729           0.800568         0.800597        0.007524   \n",
       "289           0.789922           0.804826         0.800596        0.008757   \n",
       "316           0.790987           0.806955         0.799461        0.006591   \n",
       "288           0.794535           0.800568         0.799035        0.006140   \n",
       "153           0.789212           0.799858         0.798822        0.007279   \n",
       "181           0.786373           0.803407         0.798751        0.009668   \n",
       "180           0.791341           0.797374         0.797049        0.009998   \n",
       "292           0.786018           0.797374         0.795771        0.009872   \n",
       "342           0.791341           0.797729         0.795630        0.011437   \n",
       "315           0.787438           0.805536         0.795275        0.010978   \n",
       "\n",
       "     rank_test_score  \n",
       "154                1  \n",
       "289                2  \n",
       "316                3  \n",
       "288                4  \n",
       "153                5  \n",
       "181                6  \n",
       "180                7  \n",
       "292                8  \n",
       "342                9  \n",
       "315               10  "
      ]
     },
     "execution_count": 141,
     "metadata": {},
     "output_type": "execute_result"
    }
   ],
   "source": [
    "resultss = pd.DataFrame(best_model.cv_results_)\n",
    "resultss.sort_values(by='rank_test_score', inplace=True)\n",
    "params_2nd_best = resultss.iloc[2]['params']\n",
    "clf_2nd_best = best_model.best_estimator_.set_params(**params_2nd_best)\n",
    "resultss[:10]"
   ]
  },
  {
   "cell_type": "markdown",
   "id": "7c3ac462",
   "metadata": {},
   "source": [
    "Comparison of cross-validation results showed that the most effective models were XGboost, Adaboost and Catboost. I tested them in gridsearch. Xgboost gave a satisfactory result. By comparing the top 10 xgboost results, we can conclude that the selected parameters will allow us to achieve the highest prediction results. I used the F1 score formula for testing, because it considers both how good the model is at finding the right things and how good it is at avoiding mistakes."
   ]
  },
  {
   "cell_type": "code",
   "execution_count": null,
   "id": "70a50ac6",
   "metadata": {},
   "outputs": [],
   "source": []
  },
  {
   "cell_type": "code",
   "execution_count": null,
   "id": "b48f988d",
   "metadata": {},
   "outputs": [],
   "source": []
  },
  {
   "cell_type": "code",
   "execution_count": null,
   "id": "111baaa2",
   "metadata": {},
   "outputs": [],
   "source": []
  }
 ],
 "metadata": {
  "kernelspec": {
   "display_name": "Python 3 (ipykernel)",
   "language": "python",
   "name": "python3"
  },
  "language_info": {
   "codemirror_mode": {
    "name": "ipython",
    "version": 3
   },
   "file_extension": ".py",
   "mimetype": "text/x-python",
   "name": "python",
   "nbconvert_exporter": "python",
   "pygments_lexer": "ipython3",
   "version": "3.11.2"
  }
 },
 "nbformat": 4,
 "nbformat_minor": 5
}
